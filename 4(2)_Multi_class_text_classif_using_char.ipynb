{
  "nbformat": 4,
  "nbformat_minor": 0,
  "metadata": {
    "colab": {
      "name": "4(2)-Multi-class text classif using char.ipynb",
      "provenance": [],
      "authorship_tag": "ABX9TyPCw0bi6cqqun05Aezyw9QX",
      "include_colab_link": true
    },
    "kernelspec": {
      "name": "python3",
      "display_name": "Python 3"
    },
    "language_info": {
      "name": "python"
    }
  },
  "cells": [
    {
      "cell_type": "markdown",
      "metadata": {
        "id": "view-in-github",
        "colab_type": "text"
      },
      "source": [
        "<a href=\"https://colab.research.google.com/github/jotagectti/Natural-Language-Processing-PyTorch/blob/main/4(2)_Multi_class_text_classif_using_char.ipynb\" target=\"_parent\"><img src=\"https://colab.research.google.com/assets/colab-badge.svg\" alt=\"Open In Colab\"/></a>"
      ]
    },
    {
      "cell_type": "markdown",
      "metadata": {
        "id": "jdI3FydcvICL"
      },
      "source": [
        "Designing RNN for MulticlassTextClassification"
      ]
    },
    {
      "cell_type": "code",
      "metadata": {
        "id": "g72_ynXa3BIS"
      },
      "source": [
        "import torch"
      ],
      "execution_count": 37,
      "outputs": []
    },
    {
      "cell_type": "code",
      "metadata": {
        "id": "VPmc5Qfi3BK6"
      },
      "source": [
        "def letterToTensor(letter):\n",
        "  tensor = torch.zeros(1,n_letters)\n",
        "  tensor[0][all_letters.find(letter)] = 1\n",
        "\n",
        "  return tensor"
      ],
      "execution_count": 40,
      "outputs": []
    },
    {
      "cell_type": "code",
      "metadata": {
        "colab": {
          "base_uri": "https://localhost:8080/"
        },
        "id": "oZ3fkwA13BNw",
        "outputId": "0a80fe1e-f193-4902-eb5a-1f1fe032bd49"
      },
      "source": [
        "print(letterToTensor('a'))"
      ],
      "execution_count": 41,
      "outputs": [
        {
          "output_type": "stream",
          "name": "stdout",
          "text": [
            "tensor([[1., 0., 0., 0., 0., 0., 0., 0., 0., 0., 0., 0., 0., 0., 0., 0., 0., 0.,\n",
            "         0., 0., 0., 0., 0., 0., 0., 0., 0., 0., 0., 0., 0., 0., 0., 0., 0., 0.,\n",
            "         0., 0., 0., 0., 0., 0., 0., 0., 0., 0., 0., 0., 0., 0., 0., 0., 0., 0.,\n",
            "         0., 0., 0.]])\n"
          ]
        }
      ]
    },
    {
      "cell_type": "code",
      "metadata": {
        "colab": {
          "base_uri": "https://localhost:8080/"
        },
        "id": "zAgxuwn43BQr",
        "outputId": "87bcc509-a87e-4c8d-ae7f-819343d013fb"
      },
      "source": [
        "print(letterToTensor('z'))"
      ],
      "execution_count": 43,
      "outputs": [
        {
          "output_type": "stream",
          "name": "stdout",
          "text": [
            "tensor([[0., 0., 0., 0., 0., 0., 0., 0., 0., 0., 0., 0., 0., 0., 0., 0., 0., 0.,\n",
            "         0., 0., 0., 0., 0., 0., 0., 1., 0., 0., 0., 0., 0., 0., 0., 0., 0., 0.,\n",
            "         0., 0., 0., 0., 0., 0., 0., 0., 0., 0., 0., 0., 0., 0., 0., 0., 0., 0.,\n",
            "         0., 0., 0.]])\n"
          ]
        }
      ]
    },
    {
      "cell_type": "code",
      "metadata": {
        "id": "KKMugqrT3BTX"
      },
      "source": [
        "def nameToTensor(name):\n",
        "  tensor = torch.zeros(len(name),1,n_letters)\n",
        "\n",
        "  for li, letter in enumerate(name):\n",
        "    tensor[li][0][all_letters.find(letter)] = 1\n",
        "  \n",
        "  return tensor"
      ],
      "execution_count": 44,
      "outputs": []
    },
    {
      "cell_type": "code",
      "metadata": {
        "colab": {
          "base_uri": "https://localhost:8080/"
        },
        "id": "HV2FqyRE3BVw",
        "outputId": "c72e54e9-97b7-4f72-f95e-f510468d4b98"
      },
      "source": [
        "jorge_tensor = nameToTensor('Jorge')\n",
        "jorge_tensor.size()"
      ],
      "execution_count": 45,
      "outputs": [
        {
          "output_type": "execute_result",
          "data": {
            "text/plain": [
              "torch.Size([5, 1, 57])"
            ]
          },
          "metadata": {},
          "execution_count": 45
        }
      ]
    },
    {
      "cell_type": "code",
      "metadata": {
        "colab": {
          "base_uri": "https://localhost:8080/"
        },
        "id": "aPMiVCbX4WGF",
        "outputId": "72e67881-0556-4913-a6b5-c7bdacfe749b"
      },
      "source": [
        "jorge_tensor"
      ],
      "execution_count": 46,
      "outputs": [
        {
          "output_type": "execute_result",
          "data": {
            "text/plain": [
              "tensor([[[0., 0., 0., 0., 0., 0., 0., 0., 0., 0., 0., 0., 0., 0., 0., 0., 0.,\n",
              "          0., 0., 0., 0., 0., 0., 0., 0., 0., 0., 0., 0., 0., 0., 0., 0., 0.,\n",
              "          0., 1., 0., 0., 0., 0., 0., 0., 0., 0., 0., 0., 0., 0., 0., 0., 0.,\n",
              "          0., 0., 0., 0., 0., 0.]],\n",
              "\n",
              "        [[0., 0., 0., 0., 0., 0., 0., 0., 0., 0., 0., 0., 0., 0., 1., 0., 0.,\n",
              "          0., 0., 0., 0., 0., 0., 0., 0., 0., 0., 0., 0., 0., 0., 0., 0., 0.,\n",
              "          0., 0., 0., 0., 0., 0., 0., 0., 0., 0., 0., 0., 0., 0., 0., 0., 0.,\n",
              "          0., 0., 0., 0., 0., 0.]],\n",
              "\n",
              "        [[0., 0., 0., 0., 0., 0., 0., 0., 0., 0., 0., 0., 0., 0., 0., 0., 0.,\n",
              "          1., 0., 0., 0., 0., 0., 0., 0., 0., 0., 0., 0., 0., 0., 0., 0., 0.,\n",
              "          0., 0., 0., 0., 0., 0., 0., 0., 0., 0., 0., 0., 0., 0., 0., 0., 0.,\n",
              "          0., 0., 0., 0., 0., 0.]],\n",
              "\n",
              "        [[0., 0., 0., 0., 0., 0., 1., 0., 0., 0., 0., 0., 0., 0., 0., 0., 0.,\n",
              "          0., 0., 0., 0., 0., 0., 0., 0., 0., 0., 0., 0., 0., 0., 0., 0., 0.,\n",
              "          0., 0., 0., 0., 0., 0., 0., 0., 0., 0., 0., 0., 0., 0., 0., 0., 0.,\n",
              "          0., 0., 0., 0., 0., 0.]],\n",
              "\n",
              "        [[0., 0., 0., 0., 1., 0., 0., 0., 0., 0., 0., 0., 0., 0., 0., 0., 0.,\n",
              "          0., 0., 0., 0., 0., 0., 0., 0., 0., 0., 0., 0., 0., 0., 0., 0., 0.,\n",
              "          0., 0., 0., 0., 0., 0., 0., 0., 0., 0., 0., 0., 0., 0., 0., 0., 0.,\n",
              "          0., 0., 0., 0., 0., 0.]]])"
            ]
          },
          "metadata": {},
          "execution_count": 46
        }
      ]
    },
    {
      "cell_type": "code",
      "metadata": {
        "id": "dwcgEZpm4WJD"
      },
      "source": [
        "import torch.nn as nn\n",
        "\n",
        "class RNN(nn.Module):\n",
        "    def __init__(self, input_size, hidden_size, output_size):\n",
        "        super(RNN, self).__init__()\n",
        "\n",
        "        self.hidden_size = hidden_size\n",
        "\n",
        "        self.i2h = nn.Linear(input_size + hidden_size, hidden_size)\n",
        "        self.i2o = nn.Linear(input_size + hidden_size, output_size)\n",
        "        self.softmax = nn.LogSoftmax(dim=1)\n",
        "\n",
        "    def forward(self, input, hidden):\n",
        "        combined = torch.cat((input, hidden), 1)\n",
        "        hidden = self.i2h(combined)\n",
        "        output = self.i2o(combined)\n",
        "        output = self.softmax(output)\n",
        "        return output, hidden\n",
        "\n",
        "    def initHidden(self):\n",
        "      return torch.zeros(1,self.hidden_size)"
      ],
      "execution_count": 47,
      "outputs": []
    },
    {
      "cell_type": "code",
      "metadata": {
        "id": "q6KJY0CE4WL8"
      },
      "source": [
        "n_hidden = 256\n",
        "\n",
        "rnn = RNN(n_letters, n_hidden, n_languages)"
      ],
      "execution_count": 50,
      "outputs": []
    },
    {
      "cell_type": "code",
      "metadata": {
        "colab": {
          "base_uri": "https://localhost:8080/"
        },
        "id": "uJTSMjWc4WOe",
        "outputId": "c379dfe6-1ba6-4f22-abc0-0eddb3d1fc3c"
      },
      "source": [
        "inp = letterToTensor('C')\n",
        "\n",
        "hidden = torch.zeros(1,n_hidden)\n",
        "\n",
        "output, next_hidden = rnn(inp,hidden)\n",
        "\n",
        "print('output size: ', output.size())\n",
        "print('next_hidden size: ', next_hidden.size())\n"
      ],
      "execution_count": 51,
      "outputs": [
        {
          "output_type": "stream",
          "name": "stdout",
          "text": [
            "output size:  torch.Size([1, 18])\n",
            "next_hidden size:  torch.Size([1, 256])\n"
          ]
        }
      ]
    },
    {
      "cell_type": "code",
      "metadata": {
        "id": "0CjJmVfd6RmF"
      },
      "source": [
        "inp = nameToTensor('Panchita')\n",
        "\n",
        "hidden = torch.zeros(1,n_hidden)\n",
        "\n",
        "output, next_hidden = rnn(inp[0],hidden)"
      ],
      "execution_count": 52,
      "outputs": []
    },
    {
      "cell_type": "code",
      "metadata": {
        "colab": {
          "base_uri": "https://localhost:8080/"
        },
        "id": "LoLo2_eU6Ro7",
        "outputId": "f30364f1-df6a-4bb8-8914-9aa43b6e9a39"
      },
      "source": [
        "print(output)"
      ],
      "execution_count": 53,
      "outputs": [
        {
          "output_type": "stream",
          "name": "stdout",
          "text": [
            "tensor([[-2.9173, -2.8852, -2.9347, -2.8363, -2.8196, -2.9640, -2.8862, -2.7940,\n",
            "         -2.9046, -2.9705, -2.8591, -2.9510, -2.8706, -2.9570, -2.8770, -2.8987,\n",
            "         -2.8218, -2.9022]], grad_fn=<LogSoftmaxBackward>)\n"
          ]
        }
      ]
    },
    {
      "cell_type": "code",
      "metadata": {
        "id": "VDJalGxS6Rto"
      },
      "source": [
        "def languageFromOutput(output):\n",
        "  _, top_i = output.topk(1)\n",
        "  language_i = top_i[0].item()\n",
        "  return all_languages[language_i], language_i"
      ],
      "execution_count": 54,
      "outputs": []
    },
    {
      "cell_type": "code",
      "metadata": {
        "colab": {
          "base_uri": "https://localhost:8080/"
        },
        "id": "JXY_CT3S6Rwl",
        "outputId": "491a03fd-3d14-442f-be85-5a984f875de9"
      },
      "source": [
        "print(languageFromOutput(output))"
      ],
      "execution_count": 55,
      "outputs": [
        {
          "output_type": "stream",
          "name": "stdout",
          "text": [
            "('Arabic', 7)\n"
          ]
        }
      ]
    },
    {
      "cell_type": "code",
      "metadata": {
        "id": "VxqWriWL7VTV"
      },
      "source": [
        "import random\n",
        "def randomTrainingExample():\n",
        "  random_language_index = random.randint(0,n_languages-1)\n",
        "  language = all_languages[random_language_index]\n",
        "\n",
        "  random_language_names = language_names[language]\n",
        "\n",
        "  name = random_language_names[random.randint(0,len(random_language_names)-1)]\n",
        "\n",
        "  language_tensor = torch.tensor([all_languages.index(language)], dtype=torch.long)\n",
        "  name_tensor = nameToTensor(name)\n",
        "\n",
        "  return language, name, language_tensor, name_tensor"
      ],
      "execution_count": 56,
      "outputs": []
    },
    {
      "cell_type": "code",
      "metadata": {
        "colab": {
          "base_uri": "https://localhost:8080/"
        },
        "id": "hxdCMlaF7VWR",
        "outputId": "a1107864-a4f7-4550-e1f6-23c2c5ad0927"
      },
      "source": [
        "for i in range(10):\n",
        "  language, name, language_tensor, name_tensor = randomTrainingExample()\n",
        "  print('language=', language, 'name = ',name)"
      ],
      "execution_count": 57,
      "outputs": [
        {
          "output_type": "stream",
          "name": "stdout",
          "text": [
            "language= Korean name =  Cho\n",
            "language= Irish name =  Dalach\n",
            "language= English name =  Waring\n",
            "language= Greek name =  Pantelakos\n",
            "language= Arabic name =  Wasem\n",
            "language= Chinese name =  Lao\n",
            "language= Russian name =  Jupanenko\n",
            "language= Dutch name =  Alphen\n",
            "language= Greek name =  Mentis\n",
            "language= Scottish name =  Docherty\n"
          ]
        }
      ]
    }
  ]
}