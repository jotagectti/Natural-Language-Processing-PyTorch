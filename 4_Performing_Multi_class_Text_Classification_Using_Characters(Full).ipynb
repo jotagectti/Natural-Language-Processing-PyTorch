{
  "nbformat": 4,
  "nbformat_minor": 0,
  "metadata": {
    "colab": {
      "name": "4-Performing Multi-class Text Classification Using Characters(Full).ipynb",
      "provenance": [],
      "authorship_tag": "ABX9TyNVCJuO58TvKBkYoVYjMs6n",
      "include_colab_link": true
    },
    "kernelspec": {
      "name": "python3",
      "display_name": "Python 3"
    },
    "language_info": {
      "name": "python"
    }
  },
  "cells": [
    {
      "cell_type": "markdown",
      "metadata": {
        "id": "view-in-github",
        "colab_type": "text"
      },
      "source": [
        "<a href=\"https://colab.research.google.com/github/jotagectti/Natural-Language-Processing-PyTorch/blob/main/4_Performing_Multi_class_Text_Classification_Using_Characters(Full).ipynb\" target=\"_parent\"><img src=\"https://colab.research.google.com/assets/colab-badge.svg\" alt=\"Open In Colab\"/></a>"
      ]
    },
    {
      "cell_type": "markdown",
      "metadata": {
        "id": "lsFz5rOXLUmZ"
      },
      "source": [
        "Predicting Language from Names"
      ]
    },
    {
      "cell_type": "code",
      "metadata": {
        "id": "GjK4L1xgLR3K"
      },
      "source": [
        "from io import open\n",
        "import glob\n",
        "import os"
      ],
      "execution_count": 1,
      "outputs": []
    },
    {
      "cell_type": "code",
      "metadata": {
        "colab": {
          "base_uri": "https://localhost:8080/"
        },
        "id": "noIHybtmLtVP",
        "outputId": "1a1cfc0f-a61b-4be8-99ae-c19defcfe7dd"
      },
      "source": [
        "print(glob.glob('/content/data/names/*.txt'))"
      ],
      "execution_count": 2,
      "outputs": [
        {
          "output_type": "stream",
          "name": "stdout",
          "text": [
            "['/content/data/names/Greek.txt', '/content/data/names/Czech.txt', '/content/data/names/French.txt', '/content/data/names/Spanish.txt', '/content/data/names/Irish.txt', '/content/data/names/Italian.txt', '/content/data/names/Korean.txt', '/content/data/names/Arabic.txt', '/content/data/names/Polish.txt', '/content/data/names/Vietnamese.txt', '/content/data/names/Dutch.txt', '/content/data/names/English.txt', '/content/data/names/Russian.txt', '/content/data/names/Chinese.txt', '/content/data/names/Japanese.txt', '/content/data/names/German.txt', '/content/data/names/Scottish.txt', '/content/data/names/Portuguese.txt']\n"
          ]
        }
      ]
    },
    {
      "cell_type": "code",
      "metadata": {
        "colab": {
          "base_uri": "https://localhost:8080/",
          "height": 35
        },
        "id": "oL5b3GpJLtYW",
        "outputId": "b0d905ba-7dbc-460f-fc19-2a227941cb47"
      },
      "source": [
        "import unicodedata \n",
        "import string\n",
        "\n",
        "all_letters = string.ascii_letters+\" .,;'\"\n",
        "n_letters = len(all_letters)\n",
        "\n",
        "all_letters"
      ],
      "execution_count": 3,
      "outputs": [
        {
          "output_type": "execute_result",
          "data": {
            "application/vnd.google.colaboratory.intrinsic+json": {
              "type": "string"
            },
            "text/plain": [
              "\"abcdefghijklmnopqrstuvwxyzABCDEFGHIJKLMNOPQRSTUVWXYZ .,;'\""
            ]
          },
          "metadata": {},
          "execution_count": 3
        }
      ]
    },
    {
      "cell_type": "code",
      "metadata": {
        "colab": {
          "base_uri": "https://localhost:8080/"
        },
        "id": "nyT4rZ1JLtan",
        "outputId": "2a1fc8ed-c71a-40be-beab-8a6fe02a873d"
      },
      "source": [
        "n_letters"
      ],
      "execution_count": 4,
      "outputs": [
        {
          "output_type": "execute_result",
          "data": {
            "text/plain": [
              "57"
            ]
          },
          "metadata": {},
          "execution_count": 4
        }
      ]
    },
    {
      "cell_type": "code",
      "metadata": {
        "id": "Ukgg4VaZLtdJ"
      },
      "source": [
        "language_names = {}\n",
        "all_languages = []"
      ],
      "execution_count": 5,
      "outputs": []
    },
    {
      "cell_type": "code",
      "metadata": {
        "id": "RNcxF1hhLtf9"
      },
      "source": [
        "def unicodeToAscii(s):\n",
        "  return ''.join(\n",
        "      c for c in unicodedata.normalize('NFD',s)\n",
        "      if unicodedata.category(c) != 'Mn'\n",
        "      and c in all_letters\n",
        "  )"
      ],
      "execution_count": 6,
      "outputs": []
    },
    {
      "cell_type": "code",
      "metadata": {
        "colab": {
          "base_uri": "https://localhost:8080/"
        },
        "id": "RD-S9ZgOLti7",
        "outputId": "9c96d4bc-482f-4413-937d-acf441f8b314"
      },
      "source": [
        "print(unicodeToAscii('Émile'))"
      ],
      "execution_count": 7,
      "outputs": [
        {
          "output_type": "stream",
          "name": "stdout",
          "text": [
            "Emile\n"
          ]
        }
      ]
    },
    {
      "cell_type": "code",
      "metadata": {
        "id": "OhPdvlkpLtoS"
      },
      "source": [
        "def findFiles(path):\n",
        "  return glob.glob(path)"
      ],
      "execution_count": 10,
      "outputs": []
    },
    {
      "cell_type": "code",
      "metadata": {
        "id": "PQRNKn7FLtrF"
      },
      "source": [
        "total_names = 0\n",
        "\n",
        "for filename in findFiles('/content/data/names/*.txt'):\n",
        "  language = os.path.splitext(os.path.basename(filename))[0]\n",
        "  all_languages.append(language)\n",
        "  read_names = open(filename, encoding='utf-8').read().strip().split('\\n')\n",
        "  names= [unicodeToAscii(line) for line in read_names]\n",
        "  language_names[language] = names\n",
        "  total_names += len(names)"
      ],
      "execution_count": 11,
      "outputs": []
    },
    {
      "cell_type": "code",
      "metadata": {
        "colab": {
          "base_uri": "https://localhost:8080/"
        },
        "id": "dBh4wP6tLtl7",
        "outputId": "92bff26e-da92-414f-bfeb-edd8851dd5ad"
      },
      "source": [
        "all_languages"
      ],
      "execution_count": 12,
      "outputs": [
        {
          "output_type": "execute_result",
          "data": {
            "text/plain": [
              "['Greek',\n",
              " 'Czech',\n",
              " 'French',\n",
              " 'Spanish',\n",
              " 'Irish',\n",
              " 'Italian',\n",
              " 'Korean',\n",
              " 'Arabic',\n",
              " 'Polish',\n",
              " 'Vietnamese',\n",
              " 'Dutch',\n",
              " 'English',\n",
              " 'Russian',\n",
              " 'Chinese',\n",
              " 'Japanese',\n",
              " 'German',\n",
              " 'Scottish',\n",
              " 'Portuguese']"
            ]
          },
          "metadata": {},
          "execution_count": 12
        }
      ]
    },
    {
      "cell_type": "code",
      "metadata": {
        "colab": {
          "base_uri": "https://localhost:8080/"
        },
        "id": "gKrZMK8sLtvs",
        "outputId": "f06d46dd-672e-49df-a398-986074d35dcc"
      },
      "source": [
        "n_languages = len(all_languages)\n",
        "n_languages"
      ],
      "execution_count": 13,
      "outputs": [
        {
          "output_type": "execute_result",
          "data": {
            "text/plain": [
              "18"
            ]
          },
          "metadata": {},
          "execution_count": 13
        }
      ]
    },
    {
      "cell_type": "code",
      "metadata": {
        "colab": {
          "base_uri": "https://localhost:8080/"
        },
        "id": "FRz9AiswMaIE",
        "outputId": "95bbed8e-1086-423c-b857-4b5843405a0d"
      },
      "source": [
        "total_names"
      ],
      "execution_count": 14,
      "outputs": [
        {
          "output_type": "execute_result",
          "data": {
            "text/plain": [
              "20074"
            ]
          },
          "metadata": {},
          "execution_count": 14
        }
      ]
    },
    {
      "cell_type": "code",
      "metadata": {
        "colab": {
          "base_uri": "https://localhost:8080/"
        },
        "id": "0NQCDjF0Lt1S",
        "outputId": "350e2ec7-c1c5-4c1c-ca47-9fa73886f389"
      },
      "source": [
        "print(language_names['German'][:5])"
      ],
      "execution_count": 15,
      "outputs": [
        {
          "output_type": "stream",
          "name": "stdout",
          "text": [
            "['Abbing', 'Abel', 'Abeln', 'Abt', 'Achilles']\n"
          ]
        }
      ]
    },
    {
      "cell_type": "code",
      "metadata": {
        "id": "wY7Fx222Lt4A"
      },
      "source": [
        "import torch"
      ],
      "execution_count": 16,
      "outputs": []
    },
    {
      "cell_type": "code",
      "metadata": {
        "id": "qiEbetULLuA1"
      },
      "source": [
        "def letterToTensor(letter):\n",
        "  tensor = torch.zeros(1,n_letters)\n",
        "  tensor[0][all_letters.find(letter)] = 1\n",
        "\n",
        "  return tensor"
      ],
      "execution_count": 17,
      "outputs": []
    },
    {
      "cell_type": "code",
      "metadata": {
        "colab": {
          "base_uri": "https://localhost:8080/"
        },
        "id": "ZrvLCOwxLuC3",
        "outputId": "25a056de-39fd-4fd7-bfba-3138e9a64230"
      },
      "source": [
        "\n",
        "print(letterToTensor('a'))"
      ],
      "execution_count": 18,
      "outputs": [
        {
          "output_type": "stream",
          "name": "stdout",
          "text": [
            "tensor([[1., 0., 0., 0., 0., 0., 0., 0., 0., 0., 0., 0., 0., 0., 0., 0., 0., 0.,\n",
            "         0., 0., 0., 0., 0., 0., 0., 0., 0., 0., 0., 0., 0., 0., 0., 0., 0., 0.,\n",
            "         0., 0., 0., 0., 0., 0., 0., 0., 0., 0., 0., 0., 0., 0., 0., 0., 0., 0.,\n",
            "         0., 0., 0.]])\n"
          ]
        }
      ]
    },
    {
      "cell_type": "code",
      "metadata": {
        "id": "S28IacW2LuKB"
      },
      "source": [
        "def nameToTensor(name):\n",
        "  tensor = torch.zeros(len(name),1,n_letters)\n",
        "\n",
        "  for li, letter in enumerate(name):\n",
        "    tensor[li][0][all_letters.find(letter)] = 1\n",
        "  \n",
        "  return tensor"
      ],
      "execution_count": 19,
      "outputs": []
    },
    {
      "cell_type": "code",
      "metadata": {
        "colab": {
          "base_uri": "https://localhost:8080/"
        },
        "id": "khRoOKKJMnTj",
        "outputId": "51d293fa-9f70-4855-fcd6-ecc7fd8e9c43"
      },
      "source": [
        "\n",
        "jorge_tensor = nameToTensor('Jorge')\n",
        "jorge_tensor.size()"
      ],
      "execution_count": 20,
      "outputs": [
        {
          "output_type": "execute_result",
          "data": {
            "text/plain": [
              "torch.Size([5, 1, 57])"
            ]
          },
          "metadata": {},
          "execution_count": 20
        }
      ]
    },
    {
      "cell_type": "code",
      "metadata": {
        "colab": {
          "base_uri": "https://localhost:8080/"
        },
        "id": "azmkZ0D5Mr8q",
        "outputId": "70644785-cb09-41f6-9833-c9ad5c94d1c9"
      },
      "source": [
        "jorge_tensor"
      ],
      "execution_count": 22,
      "outputs": [
        {
          "output_type": "execute_result",
          "data": {
            "text/plain": [
              "tensor([[[0., 0., 0., 0., 0., 0., 0., 0., 0., 0., 0., 0., 0., 0., 0., 0., 0.,\n",
              "          0., 0., 0., 0., 0., 0., 0., 0., 0., 0., 0., 0., 0., 0., 0., 0., 0.,\n",
              "          0., 1., 0., 0., 0., 0., 0., 0., 0., 0., 0., 0., 0., 0., 0., 0., 0.,\n",
              "          0., 0., 0., 0., 0., 0.]],\n",
              "\n",
              "        [[0., 0., 0., 0., 0., 0., 0., 0., 0., 0., 0., 0., 0., 0., 1., 0., 0.,\n",
              "          0., 0., 0., 0., 0., 0., 0., 0., 0., 0., 0., 0., 0., 0., 0., 0., 0.,\n",
              "          0., 0., 0., 0., 0., 0., 0., 0., 0., 0., 0., 0., 0., 0., 0., 0., 0.,\n",
              "          0., 0., 0., 0., 0., 0.]],\n",
              "\n",
              "        [[0., 0., 0., 0., 0., 0., 0., 0., 0., 0., 0., 0., 0., 0., 0., 0., 0.,\n",
              "          1., 0., 0., 0., 0., 0., 0., 0., 0., 0., 0., 0., 0., 0., 0., 0., 0.,\n",
              "          0., 0., 0., 0., 0., 0., 0., 0., 0., 0., 0., 0., 0., 0., 0., 0., 0.,\n",
              "          0., 0., 0., 0., 0., 0.]],\n",
              "\n",
              "        [[0., 0., 0., 0., 0., 0., 1., 0., 0., 0., 0., 0., 0., 0., 0., 0., 0.,\n",
              "          0., 0., 0., 0., 0., 0., 0., 0., 0., 0., 0., 0., 0., 0., 0., 0., 0.,\n",
              "          0., 0., 0., 0., 0., 0., 0., 0., 0., 0., 0., 0., 0., 0., 0., 0., 0.,\n",
              "          0., 0., 0., 0., 0., 0.]],\n",
              "\n",
              "        [[0., 0., 0., 0., 1., 0., 0., 0., 0., 0., 0., 0., 0., 0., 0., 0., 0.,\n",
              "          0., 0., 0., 0., 0., 0., 0., 0., 0., 0., 0., 0., 0., 0., 0., 0., 0.,\n",
              "          0., 0., 0., 0., 0., 0., 0., 0., 0., 0., 0., 0., 0., 0., 0., 0., 0.,\n",
              "          0., 0., 0., 0., 0., 0.]]])"
            ]
          },
          "metadata": {},
          "execution_count": 22
        }
      ]
    },
    {
      "cell_type": "code",
      "metadata": {
        "id": "MqbvZ6haMr_R"
      },
      "source": [
        "\n",
        "import torch.nn as nn\n",
        "\n",
        "class RNN(nn.Module):\n",
        "    def __init__(self, input_size, hidden_size, output_size):\n",
        "        super(RNN, self).__init__()\n",
        "\n",
        "        self.hidden_size = hidden_size\n",
        "\n",
        "        self.i2h = nn.Linear(input_size + hidden_size, hidden_size)\n",
        "        self.i2o = nn.Linear(input_size + hidden_size, output_size)\n",
        "        self.softmax = nn.LogSoftmax(dim=1)\n",
        "\n",
        "    def forward(self, input, hidden):\n",
        "        combined = torch.cat((input, hidden), 1)\n",
        "        hidden = self.i2h(combined)\n",
        "        output = self.i2o(combined)\n",
        "        output = self.softmax(output)\n",
        "        return output, hidden\n",
        "\n",
        "    def initHidden(self):\n",
        "      return torch.zeros(1,self.hidden_size)"
      ],
      "execution_count": 23,
      "outputs": []
    },
    {
      "cell_type": "code",
      "metadata": {
        "id": "HXqLzPJzMsCI"
      },
      "source": [
        "\n",
        "n_hidden = 256\n",
        "\n",
        "rnn = RNN(n_letters, n_hidden, n_languages)"
      ],
      "execution_count": 24,
      "outputs": []
    },
    {
      "cell_type": "code",
      "metadata": {
        "colab": {
          "base_uri": "https://localhost:8080/"
        },
        "id": "VmA0lM-lMsEh",
        "outputId": "fbc63a11-b366-4867-eab8-1c8ea550a186"
      },
      "source": [
        "inp = letterToTensor('C')\n",
        "\n",
        "hidden = torch.zeros(1,n_hidden)\n",
        "\n",
        "output, next_hidden = rnn(inp,hidden)\n",
        "\n",
        "print('output size: ', output.size())\n",
        "print('next_hidden size: ', next_hidden.size())"
      ],
      "execution_count": 25,
      "outputs": [
        {
          "output_type": "stream",
          "name": "stdout",
          "text": [
            "output size:  torch.Size([1, 18])\n",
            "next_hidden size:  torch.Size([1, 256])\n"
          ]
        }
      ]
    },
    {
      "cell_type": "code",
      "metadata": {
        "id": "l-5O0RLTMnWu"
      },
      "source": [
        "inp = nameToTensor('Panchita')\n",
        "\n",
        "hidden = torch.zeros(1,n_hidden)\n",
        "\n",
        "output, next_hidden = rnn(inp[0],hidden)"
      ],
      "execution_count": 26,
      "outputs": []
    },
    {
      "cell_type": "code",
      "metadata": {
        "colab": {
          "base_uri": "https://localhost:8080/"
        },
        "id": "lHNDAZwQMnZS",
        "outputId": "00686634-cfba-465b-a5ae-babe4e4446eb"
      },
      "source": [
        "print(output)"
      ],
      "execution_count": 27,
      "outputs": [
        {
          "output_type": "stream",
          "name": "stdout",
          "text": [
            "tensor([[-2.9255, -2.9409, -2.8736, -2.8861, -2.8885, -2.9032, -2.8978, -2.8913,\n",
            "         -2.8759, -2.9003, -2.8932, -2.9603, -2.8847, -2.8768, -2.8227, -2.8745,\n",
            "         -2.8766, -2.8625]], grad_fn=<LogSoftmaxBackward>)\n"
          ]
        }
      ]
    },
    {
      "cell_type": "code",
      "metadata": {
        "id": "UO0XBLpyM3SB"
      },
      "source": [
        "\n",
        "def languageFromOutput(output):\n",
        "  _, top_i = output.topk(1)\n",
        "  language_i = top_i[0].item()\n",
        "  return all_languages[language_i], language_i"
      ],
      "execution_count": 28,
      "outputs": []
    },
    {
      "cell_type": "code",
      "metadata": {
        "colab": {
          "base_uri": "https://localhost:8080/"
        },
        "id": "v8ZJD5kAM3U-",
        "outputId": "dcbb9e85-9fd7-4275-b485-ab96b9b50fe8"
      },
      "source": [
        "print(languageFromOutput(output))"
      ],
      "execution_count": 29,
      "outputs": [
        {
          "output_type": "stream",
          "name": "stdout",
          "text": [
            "('Japanese', 14)\n"
          ]
        }
      ]
    },
    {
      "cell_type": "code",
      "metadata": {
        "id": "zMagYOzSM3a2"
      },
      "source": [
        "import random\n",
        "def randomTrainingExample():\n",
        "  random_language_index = random.randint(0,n_languages-1)\n",
        "  language = all_languages[random_language_index]\n",
        "\n",
        "  random_language_names = language_names[language]\n",
        "\n",
        "  name = random_language_names[random.randint(0,len(random_language_names)-1)]\n",
        "\n",
        "  language_tensor = torch.tensor([all_languages.index(language)], dtype=torch.long)\n",
        "  name_tensor = nameToTensor(name)\n",
        "\n",
        "  return language, name, language_tensor, name_tensor"
      ],
      "execution_count": 30,
      "outputs": []
    },
    {
      "cell_type": "code",
      "metadata": {
        "colab": {
          "base_uri": "https://localhost:8080/"
        },
        "id": "gsWN8ucOM3gx",
        "outputId": "19f62fef-73af-4cf4-aa8d-2825702f43cd"
      },
      "source": [
        "for i in range(10):\n",
        "  language, name, language_tensor, name_tensor = randomTrainingExample()\n",
        "  print('language=', language, 'name = ',name)"
      ],
      "execution_count": 31,
      "outputs": [
        {
          "output_type": "stream",
          "name": "stdout",
          "text": [
            "language= English name =  Slocombe\n",
            "language= Korean name =  San\n",
            "language= Scottish name =  Gray\n",
            "language= Greek name =  Tsahalis\n",
            "language= Dutch name =  Michel\n",
            "language= Czech name =  Koma\n",
            "language= Italian name =  Nardo\n",
            "language= Scottish name =  Hill\n",
            "language= Italian name =  Orlando\n",
            "language= Czech name =  Rypka\n"
          ]
        }
      ]
    },
    {
      "cell_type": "code",
      "metadata": {
        "id": "7tUBWvd4M3ja"
      },
      "source": [
        "criterion = nn.NLLLoss()\n",
        "learning_rate=0.005"
      ],
      "execution_count": 32,
      "outputs": []
    },
    {
      "cell_type": "code",
      "metadata": {
        "id": "kDPw2FZXM3mU"
      },
      "source": [
        "def train(language_tensor, name_tensor):\n",
        "  hidden = rnn.initHidden()\n",
        "\n",
        "  rnn.zero_grad()\n",
        "\n",
        "  for i in range(name_tensor.size()[0]):\n",
        "    output, hidden = rnn(name_tensor[i], hidden)\n",
        "\n",
        "  loss = criterion(output, language_tensor)\n",
        "  loss.backward()\n",
        "\n",
        "  for p in rnn.parameters():\n",
        "    p.data.add_(-learning_rate, p.grad.data)\n",
        "\n",
        "  return output, loss.item()"
      ],
      "execution_count": 33,
      "outputs": []
    },
    {
      "cell_type": "code",
      "metadata": {
        "id": "zA-f9lIZOOno"
      },
      "source": [
        "n_iters = 200000\n",
        "\n",
        "current_loss = 0\n",
        "all_losses = []"
      ],
      "execution_count": 34,
      "outputs": []
    },
    {
      "cell_type": "code",
      "metadata": {
        "colab": {
          "base_uri": "https://localhost:8080/"
        },
        "id": "lXx_9wMJOOqM",
        "outputId": "4d1985f6-3a30-4da4-cb85-b7314a1064cd"
      },
      "source": [
        "for epoch in range(1, n_iters +1):\n",
        "  language, name, language_tensor, name_tensor = randomTrainingExample()\n",
        "\n",
        "  output, loss = train(language_tensor, name_tensor)\n",
        "  current_loss += loss\n",
        "  \n",
        "  if epoch % 5000 == 0:\n",
        "    guess, guess_i = languageFromOutput(output)\n",
        "    correct = '*PASS*' if guess == language else '*FAIL* (%s)' % language\n",
        "    \n",
        "    print('%d %d%% %.f %s / %s %s' % (epoch,epoch/n_iters*100,loss,name,guess,correct))\n",
        "  \n",
        "  if epoch % 1000 == 0:\n",
        "    all_losses.append(current_loss / 1000)\n",
        "    current_loss = 0\n",
        "\n"
      ],
      "execution_count": 36,
      "outputs": [
        {
          "output_type": "stream",
          "name": "stderr",
          "text": [
            "/usr/local/lib/python3.7/dist-packages/ipykernel_launcher.py:13: UserWarning: This overload of add_ is deprecated:\n",
            "\tadd_(Number alpha, Tensor other)\n",
            "Consider using one of the following signatures instead:\n",
            "\tadd_(Tensor other, *, Number alpha) (Triggered internally at  /pytorch/torch/csrc/utils/python_arg_parser.cpp:1025.)\n",
            "  del sys.path[0]\n"
          ]
        },
        {
          "output_type": "stream",
          "name": "stdout",
          "text": [
            "5000 2% 3 Araya / Japanese *FAIL* (Spanish)\n",
            "10000 5% 1 Hishida / Japanese *PASS*\n",
            "15000 7% 1 Tahan / Arabic *PASS*\n",
            "20000 10% 2 Romero / Portuguese *FAIL* (Spanish)\n",
            "25000 12% 1 Dubhan / Irish *PASS*\n",
            "30000 15% 2 Costa / Spanish *FAIL* (Portuguese)\n",
            "35000 17% 2 Sula / Spanish *FAIL* (Czech)\n",
            "40000 20% 1 Kuipers / Dutch *PASS*\n",
            "45000 22% 1 Luc / Vietnamese *PASS*\n",
            "50000 25% 1 Kuipers / Dutch *PASS*\n",
            "55000 27% 0 Maslanka / Polish *PASS*\n",
            "60000 30% 0 Motoyoshi / Japanese *PASS*\n",
            "65000 32% 1 Kau / Chinese *PASS*\n",
            "70000 35% 0 Kawagichi / Japanese *PASS*\n",
            "75000 37% 2 Castell / Scottish *FAIL* (Spanish)\n",
            "80000 40% 1 Roma / Spanish *PASS*\n",
            "85000 42% 0 Reynder / Dutch *PASS*\n",
            "90000 45% 1 Kong / Chinese *PASS*\n",
            "95000 47% 1 Rothbauer / German *PASS*\n",
            "100000 50% 1 Zavala / Spanish *PASS*\n",
            "105000 52% 2 Murchadh / Scottish *FAIL* (Irish)\n",
            "110000 55% 2 Chappell / Scottish *FAIL* (English)\n",
            "115000 57% 0 Brezovjak / Czech *PASS*\n",
            "120000 60% 2 De luca / Spanish *FAIL* (Italian)\n",
            "125000 62% 1 Klerk / Czech *FAIL* (Dutch)\n",
            "130000 65% 0 Szwarc / Polish *PASS*\n",
            "135000 67% 2 Lane / Chinese *FAIL* (French)\n",
            "140000 70% 1 Soares / Portuguese *PASS*\n",
            "145000 72% 0 Almeida / Portuguese *PASS*\n",
            "150000 75% 2 D'cruz / Spanish *FAIL* (Portuguese)\n",
            "155000 77% 1 Bradach / German *FAIL* (Irish)\n",
            "160000 80% 0 Reynder / Dutch *PASS*\n",
            "165000 82% 2 Hellier / Czech *FAIL* (English)\n",
            "170000 85% 0 Black / Scottish *PASS*\n",
            "175000 87% 1 Dominguez / Spanish *PASS*\n",
            "180000 90% 1 Cha / Korean *PASS*\n",
            "185000 92% 1 Crespo / Portuguese *PASS*\n",
            "190000 95% 0 Kanavos / Greek *PASS*\n",
            "195000 97% 0 Atiyeh / Arabic *PASS*\n",
            "200000 100% 2 Gottschalk / Czech *FAIL* (German)\n"
          ]
        }
      ]
    },
    {
      "cell_type": "code",
      "metadata": {
        "colab": {
          "base_uri": "https://localhost:8080/",
          "height": 483
        },
        "id": "_IcHZQZ5OOso",
        "outputId": "03da02fc-0479-49bd-8d18-a504861cc418"
      },
      "source": [
        "import matplotlib.pyplot as plt\n",
        "\n",
        "plt.figure(figsize=(10,8))\n",
        "plt.plot(all_losses)\n",
        "plt.show()"
      ],
      "execution_count": 37,
      "outputs": [
        {
          "output_type": "display_data",
          "data": {
            "image/png": "[encoded data removed]",
            "text/plain": [
              "<Figure size 720x576 with 1 Axes>"
            ]
          },
          "metadata": {
            "needs_background": "light"
          }
        }
      ]
    },
    {
      "cell_type": "code",
      "metadata": {
        "id": "WUvczStUOOvV"
      },
      "source": [
        "n_predictions = 3"
      ],
      "execution_count": 38,
      "outputs": []
    },
    {
      "cell_type": "code",
      "metadata": {
        "id": "e8oLNyflR4Y8"
      },
      "source": [
        "input_name = 'Alejandro'"
      ],
      "execution_count": 40,
      "outputs": []
    },
    {
      "cell_type": "code",
      "metadata": {
        "colab": {
          "base_uri": "https://localhost:8080/"
        },
        "id": "FNryeEvPR4b6",
        "outputId": "86a97013-d524-4272-9aed-28d80f7319f2"
      },
      "source": [
        "with torch.no_grad():\n",
        "  \n",
        "  name_tensor = nameToTensor(input_name)\n",
        "\n",
        "  hidden = rnn.initHidden()\n",
        "  for i in range(name_tensor.size()[0]):\n",
        "    output,hidden = rnn(name_tensor[i], hidden)\n",
        "\n",
        "  topv, topi = output.topk(n_predictions, 1, True)\n",
        "\n",
        "  for i in range(n_predictions):\n",
        "    value = topv[0][i].item()\n",
        "    language_index = topi[0][i].item()\n",
        "\n",
        "    print('(%.2f) %s' % (value, all_languages[language_index]))\n",
        "\n"
      ],
      "execution_count": 43,
      "outputs": [
        {
          "output_type": "stream",
          "name": "stdout",
          "text": [
            "(-0.95) Italian\n",
            "(-0.97) Dutch\n",
            "(-2.15) Spanish\n"
          ]
        }
      ]
    },
    {
      "cell_type": "code",
      "metadata": {
        "id": "hok47Un-R4e0"
      },
      "source": [
        "input_name = 'Weon'"
      ],
      "execution_count": 44,
      "outputs": []
    },
    {
      "cell_type": "code",
      "metadata": {
        "colab": {
          "base_uri": "https://localhost:8080/"
        },
        "id": "1jmKHAEKTZlP",
        "outputId": "dd49ef34-a961-4f0e-c429-69048bfa8881"
      },
      "source": [
        "with torch.no_grad():\n",
        "  \n",
        "  name_tensor = nameToTensor(input_name)\n",
        "\n",
        "  hidden = rnn.initHidden()\n",
        "  for i in range(name_tensor.size()[0]):\n",
        "    output,hidden = rnn(name_tensor[i], hidden)\n",
        "\n",
        "  topv, topi = output.topk(n_predictions, 1, True)\n",
        "\n",
        "  for i in range(n_predictions):\n",
        "    value = topv[0][i].item()\n",
        "    language_index = topi[0][i].item()\n",
        "\n",
        "    print('(%.2f) %s' % (value, all_languages[language_index]))\n"
      ],
      "execution_count": 45,
      "outputs": [
        {
          "output_type": "stream",
          "name": "stdout",
          "text": [
            "(-0.51) Scottish\n",
            "(-1.53) Korean\n",
            "(-2.83) Chinese\n"
          ]
        }
      ]
    }
  ]
}