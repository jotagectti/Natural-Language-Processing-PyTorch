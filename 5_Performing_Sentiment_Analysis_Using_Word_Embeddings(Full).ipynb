{
  "nbformat": 4,
  "nbformat_minor": 0,
  "metadata": {
    "colab": {
      "name": "5-Performing Sentiment Analysis Using Word Embeddings(Full).ipynb",
      "provenance": [],
      "authorship_tag": "ABX9TyPVED8gVgURikiVkl+eWoyr",
      "include_colab_link": true
    },
    "kernelspec": {
      "name": "python3",
      "display_name": "Python 3"
    },
    "language_info": {
      "name": "python"
    }
  },
  "cells": [
    {
      "cell_type": "markdown",
      "metadata": {
        "id": "view-in-github",
        "colab_type": "text"
      },
      "source": [
        "<a href=\"https://colab.research.google.com/github/jotagectti/Natural-Language-Processing-PyTorch/blob/main/5_Performing_Sentiment_Analysis_Using_Word_Embeddings(Full).ipynb\" target=\"_parent\"><img src=\"https://colab.research.google.com/assets/colab-badge.svg\" alt=\"Open In Colab\"/></a>"
      ]
    },
    {
      "cell_type": "markdown",
      "metadata": {
        "id": "wRP71vOZVxYa"
      },
      "source": [
        "Generating Analogies Using GloVe Embeddings"
      ]
    },
    {
      "cell_type": "markdown",
      "metadata": {
        "id": "8x2-sYG_UoQs"
      },
      "source": [
        "\n",
        "> *bitacora notepad*\n",
        "\n",
        "A.Word embedings:\n",
        "* one-hot\n",
        "* Frecuency -> count, TF-IDF, Co-ocurrence\n",
        "* prediction-based -> ML based algorithms => Word2vec|GLoVe\n"
      ]
    },
    {
      "cell_type": "code",
      "metadata": {
        "id": "CckwdW__Udvk"
      },
      "source": [
        "import torch\n",
        "import torchtext.vocab"
      ],
      "execution_count": 1,
      "outputs": []
    },
    {
      "cell_type": "code",
      "metadata": {
        "colab": {
          "base_uri": "https://localhost:8080/"
        },
        "id": "oB_1eog_WBno",
        "outputId": "0defa82d-2389-4836-fb1d-1f52f18ac0c7"
      },
      "source": [
        "glove = torchtext.vocab.GloVe(name='6B', dim=100)\n",
        "print(f'Is {len(glove.itos)} words in vocab')"
      ],
      "execution_count": 2,
      "outputs": [
        {
          "output_type": "stream",
          "name": "stderr",
          "text": [
            ".vector_cache/glove.6B.zip: 862MB [02:42, 5.30MB/s]                           \n",
            "100%|█████████▉| 399999/400000 [00:17<00:00, 22930.82it/s]\n"
          ]
        },
        {
          "output_type": "stream",
          "name": "stdout",
          "text": [
            "Is 400000 words in vocab\n"
          ]
        }
      ]
    },
    {
      "cell_type": "code",
      "metadata": {
        "colab": {
          "base_uri": "https://localhost:8080/"
        },
        "id": "dMUdlUIfWBqd",
        "outputId": "7743b4cd-0095-4cb7-afd5-3d2c770df96d"
      },
      "source": [
        "glove.vectors.shape"
      ],
      "execution_count": 4,
      "outputs": [
        {
          "output_type": "execute_result",
          "data": {
            "text/plain": [
              "torch.Size([400000, 100])"
            ]
          },
          "metadata": {},
          "execution_count": 4
        }
      ]
    },
    {
      "cell_type": "code",
      "metadata": {
        "colab": {
          "base_uri": "https://localhost:8080/"
        },
        "id": "m1LUdu_8WBth",
        "outputId": "f6a608cb-9d33-4025-ff2c-8bf4b0ea83b8"
      },
      "source": [
        "glove.itos[:15]"
      ],
      "execution_count": 5,
      "outputs": [
        {
          "output_type": "execute_result",
          "data": {
            "text/plain": [
              "['the',\n",
              " ',',\n",
              " '.',\n",
              " 'of',\n",
              " 'to',\n",
              " 'and',\n",
              " 'in',\n",
              " 'a',\n",
              " '\"',\n",
              " \"'s\",\n",
              " 'for',\n",
              " '-',\n",
              " 'that',\n",
              " 'on',\n",
              " 'is']"
            ]
          },
          "metadata": {},
          "execution_count": 5
        }
      ]
    },
    {
      "cell_type": "code",
      "metadata": {
        "colab": {
          "base_uri": "https://localhost:8080/"
        },
        "id": "6-9hrhaDWBwL",
        "outputId": "b69fb519-0ae7-4989-f51f-8aec53682c14"
      },
      "source": [
        "glove.stoi['the']"
      ],
      "execution_count": 6,
      "outputs": [
        {
          "output_type": "execute_result",
          "data": {
            "text/plain": [
              "0"
            ]
          },
          "metadata": {},
          "execution_count": 6
        }
      ]
    },
    {
      "cell_type": "code",
      "metadata": {
        "colab": {
          "base_uri": "https://localhost:8080/"
        },
        "id": "L4PLoQC7WByg",
        "outputId": "f7fc45d6-3ce9-4ca8-d05b-70cc4f56cc1d"
      },
      "source": [
        "glove.stoi['dazzle']"
      ],
      "execution_count": 7,
      "outputs": [
        {
          "output_type": "execute_result",
          "data": {
            "text/plain": [
              "36623"
            ]
          },
          "metadata": {},
          "execution_count": 7
        }
      ]
    },
    {
      "cell_type": "code",
      "metadata": {
        "colab": {
          "base_uri": "https://localhost:8080/"
        },
        "id": "JoOm43T5WB0_",
        "outputId": "4b6afd37-4cf0-42b2-ac4b-2f8537f0322b"
      },
      "source": [
        "glove.stoi['shenanigans']"
      ],
      "execution_count": 9,
      "outputs": [
        {
          "output_type": "execute_result",
          "data": {
            "text/plain": [
              "43165"
            ]
          },
          "metadata": {},
          "execution_count": 9
        }
      ]
    },
    {
      "cell_type": "code",
      "metadata": {
        "id": "YP3ylSRtWwN5"
      },
      "source": [
        "def get_vector(embeddings, word):\n",
        "  assert word in embeddings.stoi, f'*{word}* not in vocab'\n",
        "  return embeddings.vectors[embeddings.stoi[word]]"
      ],
      "execution_count": 13,
      "outputs": []
    },
    {
      "cell_type": "code",
      "metadata": {
        "colab": {
          "base_uri": "https://localhost:8080/"
        },
        "id": "aXQO2mKaWwRB",
        "outputId": "52c0663c-3be0-41a3-a398-fd3994987449"
      },
      "source": [
        "get_vector(glove,'paper')"
      ],
      "execution_count": 14,
      "outputs": [
        {
          "output_type": "execute_result",
          "data": {
            "text/plain": [
              "tensor([-0.8503,  0.3336, -0.6589, -0.4987,  0.3659, -0.1925,  0.2566, -0.0534,\n",
              "         0.3147,  0.2443,  0.2934, -0.4492,  0.1517,  0.3931, -0.3179,  0.0605,\n",
              "         0.8177, -0.3885,  0.7676, -1.1041, -0.1544,  0.3165, -0.3724, -0.1148,\n",
              "         0.5163, -0.3929,  0.1630, -0.2532, -0.5098,  0.1520,  0.2781,  0.5252,\n",
              "        -0.3882, -0.3472, -0.6182,  0.1702,  0.1225, -0.2419, -0.3888, -0.5318,\n",
              "        -0.4699, -0.7050, -0.6213, -0.3869, -0.8564, -0.4100, -0.4749, -0.2108,\n",
              "        -0.8134, -0.5240,  0.4989,  0.3791,  0.5543,  1.1230, -0.4212, -1.5674,\n",
              "        -0.5689,  0.4082,  1.7949,  0.1686, -0.0029,  0.2879, -0.9009, -0.0942,\n",
              "         0.7999, -0.3910,  0.7629,  0.7131,  0.1319, -0.4076, -0.1869,  0.8956,\n",
              "         0.4687, -0.0029,  0.0253,  1.0084,  0.1714,  0.5974, -1.1003,  0.4931,\n",
              "         0.4178,  0.1728, -0.4947,  0.0878, -0.9669, -1.0920,  0.3390, -0.5129,\n",
              "         0.2464,  0.2714,  0.2421, -0.2171,  0.5504,  0.0082, -0.4557,  0.1353,\n",
              "        -0.0431, -0.4141,  0.7005,  0.1877])"
            ]
          },
          "metadata": {},
          "execution_count": 14
        }
      ]
    },
    {
      "cell_type": "code",
      "metadata": {
        "id": "V3lYW6awXzsG"
      },
      "source": [
        "def closest(embeddings, vector, n=6):\n",
        "  distances=[]\n",
        "\n",
        "  for neighbor in embeddings.itos:\n",
        "    distances.append((neighbor, torch.dist(vector, get_vector(embeddings, neighbor))))\n",
        "\n",
        "  return sorted(distances, key=lambda x: x[1])[:n]"
      ],
      "execution_count": 16,
      "outputs": []
    },
    {
      "cell_type": "code",
      "metadata": {
        "colab": {
          "base_uri": "https://localhost:8080/"
        },
        "id": "Z1cqyFBSXzvP",
        "outputId": "9ca94671-ef43-44c2-97d1-f7c81f514683"
      },
      "source": [
        "closest(glove, get_vector(glove,'paper'))"
      ],
      "execution_count": 21,
      "outputs": [
        {
          "output_type": "execute_result",
          "data": {
            "text/plain": [
              "[('paper', tensor(0.)),\n",
              " ('papers', tensor(3.8442)),\n",
              " ('printed', tensor(4.1970)),\n",
              " ('print', tensor(4.2666)),\n",
              " ('sheet', tensor(4.3835)),\n",
              " ('printing', tensor(4.4179))]"
            ]
          },
          "metadata": {},
          "execution_count": 21
        }
      ]
    },
    {
      "cell_type": "code",
      "metadata": {
        "colab": {
          "base_uri": "https://localhost:8080/"
        },
        "id": "EiGhOuaBWwb_",
        "outputId": "ca07ba39-e4da-4938-9fae-9ba6da56874c"
      },
      "source": [
        "closest(glove, get_vector(glove,'comedy'))"
      ],
      "execution_count": 22,
      "outputs": [
        {
          "output_type": "execute_result",
          "data": {
            "text/plain": [
              "[('comedy', tensor(0.)),\n",
              " ('drama', tensor(3.3022)),\n",
              " ('sitcom', tensor(3.7490)),\n",
              " ('movie', tensor(3.7593)),\n",
              " ('comedies', tensor(4.0037)),\n",
              " ('film', tensor(4.1829))]"
            ]
          },
          "metadata": {},
          "execution_count": 22
        }
      ]
    },
    {
      "cell_type": "code",
      "metadata": {
        "id": "ZzmoK_vUWwWy"
      },
      "source": [
        "def print_tuples(tuples):\n",
        "  for t in tuples:\n",
        "    print('(%.4f) %s' % (t[1], t[0]))"
      ],
      "execution_count": 24,
      "outputs": []
    },
    {
      "cell_type": "code",
      "metadata": {
        "colab": {
          "base_uri": "https://localhost:8080/"
        },
        "id": "4EB7LdzfWwfB",
        "outputId": "db7f30dd-a3ad-4318-c69e-ee6d6dc915d9"
      },
      "source": [
        "print_tuples(closest(glove, get_vector(glove,'stupendous')))"
      ],
      "execution_count": 28,
      "outputs": [
        {
          "output_type": "stream",
          "name": "stdout",
          "text": [
            "(0.0000) stupendous\n",
            "(2.5795) marvellous\n",
            "(2.7539) frightful\n",
            "(2.8506) stupefying\n",
            "(2.8561) awe-inspiring\n",
            "(2.9179) mind-blowing\n"
          ]
        }
      ]
    },
    {
      "cell_type": "code",
      "metadata": {
        "id": "iPkdRH_uZepH"
      },
      "source": [
        "def analogy(embeddings, w1, w2, w3, n=6):\n",
        "  print('\\n[%s :%s ::%s : ?]' % (w1,w2,w3))\n",
        "  #queen - king + man\n",
        "  closest_words = closest(embeddings, \\\n",
        "                          get_vector(embeddings, w2)\n",
        "                          -get_vector(embeddings, w1) \\\n",
        "                          +get_vector(embeddings, w3), \\\n",
        "                          n+3)\n",
        "  closest_words = [x for x in closest_words if x[0] not in [w1,w2,w3]][:n]\n",
        "\n",
        "  return closest_words"
      ],
      "execution_count": 27,
      "outputs": []
    },
    {
      "cell_type": "code",
      "metadata": {
        "colab": {
          "base_uri": "https://localhost:8080/"
        },
        "id": "AOs4Y56aZesF",
        "outputId": "821fef02-3817-4bd0-cda1-a3c349d64d7f"
      },
      "source": [
        "print_tuples(analogy(glove, 'moon', 'night','sun'))"
      ],
      "execution_count": 29,
      "outputs": [
        {
          "output_type": "stream",
          "name": "stdout",
          "text": [
            "\n",
            "[moon :night ::sun : ?]\n",
            "(5.7069) morning\n",
            "(5.7276) afternoon\n",
            "(5.8023) evening\n",
            "(6.1410) hours\n",
            "(6.2797) saturday\n",
            "(6.3056) sunday\n"
          ]
        }
      ]
    },
    {
      "cell_type": "code",
      "metadata": {
        "colab": {
          "base_uri": "https://localhost:8080/"
        },
        "id": "vwbykDKHZevl",
        "outputId": "cc380cdc-c10c-4d81-a4d5-62ba390618c4"
      },
      "source": [
        "print_tuples(analogy(glove, 'earth', 'moon','sun'))"
      ],
      "execution_count": 30,
      "outputs": [
        {
          "output_type": "stream",
          "name": "stdout",
          "text": [
            "\n",
            "[earth :moon ::sun : ?]\n",
            "(6.2294) lee\n",
            "(6.4125) kang\n",
            "(6.4644) tan\n",
            "(6.4757) yang\n",
            "(6.4853) lin\n",
            "(6.5220) chong\n"
          ]
        }
      ]
    },
    {
      "cell_type": "code",
      "metadata": {
        "id": "HPRdbt6dZeyo"
      },
      "source": [
        ""
      ],
      "execution_count": null,
      "outputs": []
    }
  ]
}