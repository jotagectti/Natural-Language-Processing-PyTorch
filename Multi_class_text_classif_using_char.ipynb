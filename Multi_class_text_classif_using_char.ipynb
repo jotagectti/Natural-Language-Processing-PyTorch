{
  "nbformat": 4,
  "nbformat_minor": 0,
  "metadata": {
    "colab": {
      "name": "Multi-class text classif using char.ipynb",
      "provenance": [],
      "authorship_tag": "ABX9TyPcsirV1tSFOPAy4Dq99cLs",
      "include_colab_link": true
    },
    "kernelspec": {
      "name": "python3",
      "display_name": "Python 3"
    },
    "language_info": {
      "name": "python"
    }
  },
  "cells": [
    {
      "cell_type": "markdown",
      "metadata": {
        "id": "view-in-github",
        "colab_type": "text"
      },
      "source": [
        "<a href=\"https://colab.research.google.com/github/jotagectti/Natural-Language-Processing-PyTorch/blob/main/Multi_class_text_classif_using_char.ipynb\" target=\"_parent\"><img src=\"https://colab.research.google.com/assets/colab-badge.svg\" alt=\"Open In Colab\"/></a>"
      ]
    },
    {
      "cell_type": "markdown",
      "metadata": {
        "id": "jdI3FydcvICL"
      },
      "source": [
        "MulticlassTextClassification_Charactes"
      ]
    },
    {
      "cell_type": "code",
      "metadata": {
        "id": "ifwNK9fpvMVt"
      },
      "source": [
        "from io import open\n",
        "import glob\n",
        "import os"
      ],
      "execution_count": 18,
      "outputs": []
    },
    {
      "cell_type": "code",
      "metadata": {
        "colab": {
          "base_uri": "https://localhost:8080/"
        },
        "id": "crI2dnsPt8_i",
        "outputId": "0eda3aa8-a6e5-4aaf-c34e-9eacade448e1"
      },
      "source": [
        "print(glob.glob('/content/data/names/*.txt'))"
      ],
      "execution_count": 23,
      "outputs": [
        {
          "output_type": "stream",
          "name": "stdout",
          "text": [
            "['/content/data/names/Greek.txt', '/content/data/names/Czech.txt', '/content/data/names/French.txt', '/content/data/names/Spanish.txt', '/content/data/names/Irish.txt', '/content/data/names/Italian.txt', '/content/data/names/Korean.txt', '/content/data/names/Arabic.txt', '/content/data/names/Polish.txt', '/content/data/names/Vietnamese.txt', '/content/data/names/Dutch.txt', '/content/data/names/English.txt', '/content/data/names/Russian.txt', '/content/data/names/Chinese.txt', '/content/data/names/Japanese.txt', '/content/data/names/German.txt', '/content/data/names/Scottish.txt', '/content/data/names/Portuguese.txt']\n"
          ]
        }
      ]
    },
    {
      "cell_type": "code",
      "metadata": {
        "colab": {
          "base_uri": "https://localhost:8080/",
          "height": 35
        },
        "id": "QYkPpOiwvpCy",
        "outputId": "906816c6-d865-426c-9d50-37f6d386ab60"
      },
      "source": [
        "import unicodedata \n",
        "import string\n",
        "\n",
        "all_letters = string.ascii_letters+\" .,;'\"\n",
        "n_letters = len(all_letters)\n",
        "\n",
        "all_letters"
      ],
      "execution_count": 24,
      "outputs": [
        {
          "output_type": "execute_result",
          "data": {
            "application/vnd.google.colaboratory.intrinsic+json": {
              "type": "string"
            },
            "text/plain": [
              "\"abcdefghijklmnopqrstuvwxyzABCDEFGHIJKLMNOPQRSTUVWXYZ .,;'\""
            ]
          },
          "metadata": {},
          "execution_count": 24
        }
      ]
    },
    {
      "cell_type": "code",
      "metadata": {
        "colab": {
          "base_uri": "https://localhost:8080/"
        },
        "id": "YdCJNV7yvo7R",
        "outputId": "5dfefba6-ceec-4165-ae80-6c2561915493"
      },
      "source": [
        "n_letters"
      ],
      "execution_count": 25,
      "outputs": [
        {
          "output_type": "execute_result",
          "data": {
            "text/plain": [
              "57"
            ]
          },
          "metadata": {},
          "execution_count": 25
        }
      ]
    },
    {
      "cell_type": "code",
      "metadata": {
        "id": "qFAE2g55voyf"
      },
      "source": [
        "language_names = {}\n",
        "all_languages = []"
      ],
      "execution_count": 26,
      "outputs": []
    },
    {
      "cell_type": "code",
      "metadata": {
        "id": "iyxzof2FwNxj"
      },
      "source": [
        "def unicodeToAscii(s):\n",
        "  return ''.join(\n",
        "      c for c in unicodedata.normalize('NFD',s)\n",
        "      if unicodedata.category(c) != 'Mn'\n",
        "      and c in all_letters\n",
        "  )"
      ],
      "execution_count": 27,
      "outputs": []
    },
    {
      "cell_type": "code",
      "metadata": {
        "colab": {
          "base_uri": "https://localhost:8080/"
        },
        "id": "unkMviz2wN5d",
        "outputId": "e762ad5f-730e-4308-c163-8a7bbffef591"
      },
      "source": [
        "print(unicodeToAscii('Émile'))"
      ],
      "execution_count": 28,
      "outputs": [
        {
          "output_type": "stream",
          "name": "stdout",
          "text": [
            "Emile\n"
          ]
        }
      ]
    },
    {
      "cell_type": "code",
      "metadata": {
        "id": "yDHQ_aD3wN78"
      },
      "source": [
        "def findFiles(path):\n",
        "  return glob.glob(path)"
      ],
      "execution_count": 29,
      "outputs": []
    },
    {
      "cell_type": "code",
      "metadata": {
        "id": "uSuosM7jw-bC"
      },
      "source": [
        "total_names = 0\n",
        "\n",
        "for filename in findFiles('/content/data/names/*.txt'):\n",
        "  language = os.path.splitext(os.path.basename(filename))[0]\n",
        "  all_languages.append(language)\n",
        "  read_names = open(filename, encoding='utf-8').read().strip().split('\\n')\n",
        "  names= [unicodeToAscii(line) for line in read_names]\n",
        "  language_names[language] = names\n",
        "  total_names += len(names)"
      ],
      "execution_count": 32,
      "outputs": []
    },
    {
      "cell_type": "code",
      "metadata": {
        "colab": {
          "base_uri": "https://localhost:8080/"
        },
        "id": "K9dpUzYZwN-m",
        "outputId": "b5084f29-242d-4fad-f3f9-ffb77546cf84"
      },
      "source": [
        "all_languages"
      ],
      "execution_count": 33,
      "outputs": [
        {
          "output_type": "execute_result",
          "data": {
            "text/plain": [
              "['Greek',\n",
              " 'Czech',\n",
              " 'French',\n",
              " 'Spanish',\n",
              " 'Irish',\n",
              " 'Italian',\n",
              " 'Korean',\n",
              " 'Arabic',\n",
              " 'Polish',\n",
              " 'Vietnamese',\n",
              " 'Dutch',\n",
              " 'English',\n",
              " 'Russian',\n",
              " 'Chinese',\n",
              " 'Japanese',\n",
              " 'German',\n",
              " 'Scottish',\n",
              " 'Portuguese']"
            ]
          },
          "metadata": {},
          "execution_count": 33
        }
      ]
    },
    {
      "cell_type": "code",
      "metadata": {
        "colab": {
          "base_uri": "https://localhost:8080/"
        },
        "id": "6QlFMAs0wOBU",
        "outputId": "3a045319-30a7-4a45-fde4-757de18561e1"
      },
      "source": [
        "n_languages = len(all_languages)\n",
        "n_languages"
      ],
      "execution_count": 34,
      "outputs": [
        {
          "output_type": "execute_result",
          "data": {
            "text/plain": [
              "18"
            ]
          },
          "metadata": {},
          "execution_count": 34
        }
      ]
    },
    {
      "cell_type": "code",
      "metadata": {
        "colab": {
          "base_uri": "https://localhost:8080/"
        },
        "id": "Tug7vmtFwOcz",
        "outputId": "13d78017-d37a-4473-a5c5-18dccddbc79e"
      },
      "source": [
        "total_names"
      ],
      "execution_count": 35,
      "outputs": [
        {
          "output_type": "execute_result",
          "data": {
            "text/plain": [
              "20074"
            ]
          },
          "metadata": {},
          "execution_count": 35
        }
      ]
    },
    {
      "cell_type": "code",
      "metadata": {
        "colab": {
          "base_uri": "https://localhost:8080/"
        },
        "id": "0a3c2jOUwOfF",
        "outputId": "1aa39118-5026-43d6-bc08-99c791531cda"
      },
      "source": [
        "print(language_names['Spanish'][:5])"
      ],
      "execution_count": 36,
      "outputs": [
        {
          "output_type": "stream",
          "name": "stdout",
          "text": [
            "['Abana', 'Abano', 'Abarca', 'Abaroa', 'Abascal']\n"
          ]
        }
      ]
    }
  ]
}